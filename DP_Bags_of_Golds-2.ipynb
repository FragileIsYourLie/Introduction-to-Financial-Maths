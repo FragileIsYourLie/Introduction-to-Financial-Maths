{
 "cells": [
  {
   "cell_type": "code",
   "execution_count": 1,
   "id": "dfe40ac2",
   "metadata": {},
   "outputs": [],
   "source": [
    "import numpy as np\n",
    "from scipy import linalg as la\n",
    "import matplotlib.pyplot as plt; plt.style.use('dark_background')\n",
    "np.set_printoptions(suppress=True) \n",
    "\n",
    "def bags(setA):\n",
    "    # setA is the given ordered set A ={a_1,....,a_N}\n",
    "    # output is the optimal values of both players \n",
    "    # and the optimal action of the player who has the turn\n",
    "    \n",
    "    dim=len(setA)\n",
    "    # NOTE THIS IS DIFFERENT NOTATION THAN THE ONE USED IN CLASS\n",
    "    # (optimal) value when k bags left after i rights\n",
    "    # first component of \"optimal\" is k-1, second is i\n",
    "    value_first=np.zeros((dim,dim)) # value of the player playing\n",
    "    value_second=np.zeros((dim,dim)) # value of the player waiting\n",
    "      \n",
    "    # (optimal) decision when k bags left after i rights\n",
    "    # decision = 1 means take the left most one\n",
    "    # decision = 0 means take the right most one\n",
    "    decision=np.zeros((dim,dim)) \n",
    "\n",
    "    # single element set first , i.e., k=1\n",
    "    for i in range(dim):\n",
    "        value_first[0][i]=setA[i]        \n",
    "    for k in range(1,dim):\n",
    "        for i in range(dim-k):\n",
    "            left=setA[i]+value_second[k-1][i+1]\n",
    "            right=setA[i+k]+value_second[k-1][i]\n",
    "            value_first[k][i]= max(right , left)\n",
    "            if left >= right :\n",
    "                decision[k][i]=1\n",
    "                value_second[k][i]=value_first[k-1][i+1]\n",
    "            else:\n",
    "                value_second[k][i]=value_first[k-1][i] \n",
    "    return value_first , value_second , decision\n",
    "\n",
    "def printing_decisions(setA):   \n",
    "    dim=len(setA)\n",
    "    \n",
    "    vf, vs, dec = bags(setA)\n",
    "    total_lefts=0\n",
    "    for k in reversed(range(dim)):\n",
    "        if dec[k][total_lefts] ==1:\n",
    "            print(\"with %d bags remaining, it is optimal  to pick the left most bag\"%(k+1))\n",
    "            print(\"Picked value is\", setA[0])\n",
    "            setA.pop(0)\n",
    "            print(\"Remaining set is\", setA)\n",
    "            total_lefts +=1\n",
    "        else:           \n",
    "            print(\"with %d bags remaining, it is optimal  to pick the right most bag\"%(k+1))\n",
    "            print(\"Picked value is\", setA[-1])\n",
    "            setA=setA[:-1]\n",
    "            print(\"Remaining set is\", setA)\n",
    "               "
   ]
  },
  {
   "cell_type": "code",
   "execution_count": 12,
   "id": "2f1a15c7",
   "metadata": {},
   "outputs": [
    {
     "name": "stdout",
     "output_type": "stream",
     "text": [
      "[[0. 0. 0. 0. 0. 0. 0. 0. 0.]\n",
      " [1. 1. 0. 1. 0. 1. 0. 1. 0.]\n",
      " [1. 0. 1. 1. 1. 0. 1. 0. 0.]\n",
      " [0. 1. 0. 1. 0. 1. 0. 0. 0.]\n",
      " [1. 0. 1. 1. 1. 0. 0. 0. 0.]\n",
      " [0. 1. 0. 1. 0. 0. 0. 0. 0.]\n",
      " [1. 0. 1. 0. 0. 0. 0. 0. 0.]\n",
      " [0. 1. 0. 0. 0. 0. 0. 0. 0.]\n",
      " [1. 0. 0. 0. 0. 0. 0. 0. 0.]]\n",
      "[5, 4, 3, 20, 5, 8, 7, 19, 1]\n",
      "\n",
      "The optimal value for the starter is 21.0\n",
      "The optimal value for the second player is 51.0\n",
      "\n",
      "with 9 bags remaining, it is optimal  to pick the left most bag\n",
      "Picked value is 5\n",
      "Remaining set is [4, 3, 20, 5, 8, 7, 19, 1]\n",
      "with 8 bags remaining, it is optimal  to pick the left most bag\n",
      "Picked value is 4\n",
      "Remaining set is [3, 20, 5, 8, 7, 19, 1]\n",
      "with 7 bags remaining, it is optimal  to pick the left most bag\n",
      "Picked value is 3\n",
      "Remaining set is [20, 5, 8, 7, 19, 1]\n",
      "with 6 bags remaining, it is optimal  to pick the left most bag\n",
      "Picked value is 20\n",
      "Remaining set is [5, 8, 7, 19, 1]\n",
      "with 5 bags remaining, it is optimal  to pick the left most bag\n",
      "Picked value is 5\n",
      "Remaining set is [8, 7, 19, 1]\n",
      "with 4 bags remaining, it is optimal  to pick the left most bag\n",
      "Picked value is 8\n",
      "Remaining set is [7, 19, 1]\n",
      "with 3 bags remaining, it is optimal  to pick the left most bag\n",
      "Picked value is 7\n",
      "Remaining set is [19, 1]\n",
      "with 2 bags remaining, it is optimal  to pick the left most bag\n",
      "Picked value is 19\n",
      "Remaining set is [1]\n",
      "with 1 bags remaining, it is optimal  to pick the right most bag\n",
      "Picked value is 1\n",
      "Remaining set is []\n",
      "1\n"
     ]
    }
   ],
   "source": [
    "A=[5,4,3,20,5,8,7,19,1]\n",
    "d=len(A)\n",
    "\n",
    "F , S, D = bags(A)\n",
    "\n",
    "print(D)\n",
    "\n",
    "print(A)\n",
    "print()\n",
    "print('The optimal value for the starter is',F[d-1][0])\n",
    "print('The optimal value for the second player is',S[d-1][0])\n",
    "print()\n",
    "printing_decisions(A)\n",
    "\n",
    "print(np.sum(A))"
   ]
  },
  {
   "cell_type": "markdown",
   "id": "1d9ca379",
   "metadata": {},
   "source": [
    "#### EXAMPLE 1"
   ]
  },
  {
   "cell_type": "code",
   "execution_count": 2,
   "id": "b24bd849",
   "metadata": {},
   "outputs": [
    {
     "name": "stdout",
     "output_type": "stream",
     "text": [
      "[[0. 0. 0. 0.]\n",
      " [0. 1. 0. 0.]\n",
      " [1. 1. 0. 0.]\n",
      " [0. 0. 0. 0.]]\n",
      "[5, 12, 1, 2]\n",
      "\n",
      "The optimal value for the starter is 14.0\n",
      "The optimal value for the second player is 6.0\n",
      "\n",
      "with 4 bags remaining, it is optimal  to pick the right most bag\n",
      "Picked value is 2\n",
      "Remaining set is [5, 12, 1]\n",
      "with 3 bags remaining, it is optimal  to pick the left most bag\n",
      "Picked value is 5\n",
      "Remaining set is [12, 1]\n",
      "with 2 bags remaining, it is optimal  to pick the left most bag\n",
      "Picked value is 12\n",
      "Remaining set is [1]\n",
      "with 1 bags remaining, it is optimal  to pick the right most bag\n",
      "Picked value is 1\n",
      "Remaining set is []\n"
     ]
    }
   ],
   "source": [
    "A=[ 5 , 12, 1, 2 ]\n",
    "\n",
    "d=len(A)\n",
    "\n",
    "F , S, D = bags(A)\n",
    "\n",
    "print(D)\n",
    "\n",
    "print(A)\n",
    "print()\n",
    "print('The optimal value for the starter is',F[d-1][0])\n",
    "print('The optimal value for the second player is',S[d-1][0])\n",
    "print()\n",
    "printing_decisions(A)"
   ]
  },
  {
   "cell_type": "markdown",
   "id": "e8d69115",
   "metadata": {},
   "source": [
    "### EXAMPLE 2"
   ]
  },
  {
   "cell_type": "code",
   "execution_count": 3,
   "id": "c10ee4f8",
   "metadata": {},
   "outputs": [
    {
     "name": "stdout",
     "output_type": "stream",
     "text": [
      "[7, 15, 1, 3, 1, 4]\n",
      "\n",
      "The optimal value for the starter is 22.0\n",
      "The optimal value for the second player is 9.0\n",
      "\n",
      "with 6 bags remaining, it is optimal  to pick the right most bag\n",
      "Picked value is 4\n",
      "Remaining set is [7, 15, 1, 3, 1]\n",
      "with 5 bags remaining, it is optimal  to pick the left most bag\n",
      "Picked value is 7\n",
      "Remaining set is [15, 1, 3, 1]\n",
      "with 4 bags remaining, it is optimal  to pick the left most bag\n",
      "Picked value is 15\n",
      "Remaining set is [1, 3, 1]\n",
      "with 3 bags remaining, it is optimal  to pick the left most bag\n",
      "Picked value is 1\n",
      "Remaining set is [3, 1]\n",
      "with 2 bags remaining, it is optimal  to pick the left most bag\n",
      "Picked value is 3\n",
      "Remaining set is [1]\n",
      "with 1 bags remaining, it is optimal  to pick the right most bag\n",
      "Picked value is 1\n",
      "Remaining set is []\n"
     ]
    }
   ],
   "source": [
    "A=[7, 15 , 1, 3 , 1, 4]\n",
    "\n",
    "d=len(A)\n",
    "\n",
    "F , S, D = bags(A)\n",
    "\n",
    "print(A)\n",
    "print()\n",
    "print('The optimal value for the starter is',F[d-1][0])\n",
    "print('The optimal value for the second player is',S[d-1][0])\n",
    "print()\n",
    "printing_decisions(A)"
   ]
  },
  {
   "cell_type": "markdown",
   "id": "5cf3c73f",
   "metadata": {},
   "source": [
    "### EXAMPLE FR0M LECTURE"
   ]
  },
  {
   "cell_type": "code",
   "execution_count": 4,
   "id": "01aaf08e",
   "metadata": {},
   "outputs": [
    {
     "name": "stdout",
     "output_type": "stream",
     "text": [
      "[1, 5, 2, 15, 1, 9, 17, 1]\n",
      "\n",
      "The optimal value for the starter is 30.0\n",
      "The optimal value for the second player is 21.0\n",
      "\n",
      "with 8 bags remaining, it is optimal  to pick the right most bag\n",
      "Picked value is 1\n",
      "Remaining set is [1, 5, 2, 15, 1, 9, 17]\n",
      "with 7 bags remaining, it is optimal  to pick the right most bag\n",
      "Picked value is 17\n",
      "Remaining set is [1, 5, 2, 15, 1, 9]\n",
      "with 6 bags remaining, it is optimal  to pick the right most bag\n",
      "Picked value is 9\n",
      "Remaining set is [1, 5, 2, 15, 1]\n",
      "with 5 bags remaining, it is optimal  to pick the left most bag\n",
      "Picked value is 1\n",
      "Remaining set is [5, 2, 15, 1]\n",
      "with 4 bags remaining, it is optimal  to pick the left most bag\n",
      "Picked value is 5\n",
      "Remaining set is [2, 15, 1]\n",
      "with 3 bags remaining, it is optimal  to pick the left most bag\n",
      "Picked value is 2\n",
      "Remaining set is [15, 1]\n",
      "with 2 bags remaining, it is optimal  to pick the left most bag\n",
      "Picked value is 15\n",
      "Remaining set is [1]\n",
      "with 1 bags remaining, it is optimal  to pick the right most bag\n",
      "Picked value is 1\n",
      "Remaining set is []\n"
     ]
    }
   ],
   "source": [
    "A=[1 , 5,  2, 15 , 1 , 9 , 17, 1]\n",
    "\n",
    "d=len(A)\n",
    "\n",
    "F , S, D = bags(A)\n",
    "\n",
    "print(A)\n",
    "print()\n",
    "print('The optimal value for the starter is',F[d-1][0])\n",
    "print('The optimal value for the second player is',S[d-1][0])\n",
    "print()\n",
    "printing_decisions(A)"
   ]
  },
  {
   "cell_type": "markdown",
   "id": "a380012d",
   "metadata": {},
   "source": [
    "#### If not the left bag is chosen\n",
    "Then the second player becomes the first and collectes 25; \\\n",
    "more than the 21 possible if the left were chosen."
   ]
  },
  {
   "cell_type": "code",
   "execution_count": 5,
   "id": "96f06406",
   "metadata": {},
   "outputs": [
    {
     "name": "stdout",
     "output_type": "stream",
     "text": [
      "[5, 2, 15, 1, 9, 17, 1]\n",
      "\n",
      "The optimal value for the starter is 25.0\n",
      "The optimal value for the second player is 25.0\n",
      "\n",
      "with 7 bags remaining, it is optimal  to pick the left most bag\n",
      "Picked value is 5\n",
      "Remaining set is [2, 15, 1, 9, 17, 1]\n",
      "with 6 bags remaining, it is optimal  to pick the right most bag\n",
      "Picked value is 1\n",
      "Remaining set is [2, 15, 1, 9, 17]\n",
      "with 5 bags remaining, it is optimal  to pick the right most bag\n",
      "Picked value is 17\n",
      "Remaining set is [2, 15, 1, 9]\n",
      "with 4 bags remaining, it is optimal  to pick the right most bag\n",
      "Picked value is 9\n",
      "Remaining set is [2, 15, 1]\n",
      "with 3 bags remaining, it is optimal  to pick the left most bag\n",
      "Picked value is 2\n",
      "Remaining set is [15, 1]\n",
      "with 2 bags remaining, it is optimal  to pick the left most bag\n",
      "Picked value is 15\n",
      "Remaining set is [1]\n",
      "with 1 bags remaining, it is optimal  to pick the right most bag\n",
      "Picked value is 1\n",
      "Remaining set is []\n"
     ]
    }
   ],
   "source": [
    "A=[5,  2, 15 , 1 , 9 , 17, 1]\n",
    "\n",
    "d=len(A)\n",
    "\n",
    "F , S, D = bags(A)\n",
    "\n",
    "print(A)\n",
    "print()\n",
    "print('The optimal value for the starter is',F[d-1][0])\n",
    "print('The optimal value for the second player is',S[d-1][0])\n",
    "print()\n",
    "printing_decisions(A)"
   ]
  },
  {
   "cell_type": "markdown",
   "id": "117268fa",
   "metadata": {},
   "source": [
    "#### If again 1 was not chosen\n",
    "This time the original second player gets 25 more; total of 30"
   ]
  },
  {
   "cell_type": "code",
   "execution_count": 6,
   "id": "50f9c877",
   "metadata": {},
   "outputs": [
    {
     "name": "stdout",
     "output_type": "stream",
     "text": [
      "[15, 1, 9, 17, 1]\n",
      "\n",
      "The optimal value for the starter is 25.0\n",
      "The optimal value for the second player is 18.0\n",
      "\n",
      "with 5 bags remaining, it is optimal  to pick the left most bag\n",
      "Picked value is 15\n",
      "Remaining set is [1, 9, 17, 1]\n",
      "with 4 bags remaining, it is optimal  to pick the left most bag\n",
      "Picked value is 1\n",
      "Remaining set is [9, 17, 1]\n",
      "with 3 bags remaining, it is optimal  to pick the left most bag\n",
      "Picked value is 9\n",
      "Remaining set is [17, 1]\n",
      "with 2 bags remaining, it is optimal  to pick the left most bag\n",
      "Picked value is 17\n",
      "Remaining set is [1]\n",
      "with 1 bags remaining, it is optimal  to pick the right most bag\n",
      "Picked value is 1\n",
      "Remaining set is []\n"
     ]
    }
   ],
   "source": [
    "A=[ 15 , 1 , 9 , 17, 1]\n",
    "\n",
    "d=len(A)\n",
    "\n",
    "F , S, D = bags(A)\n",
    "\n",
    "print(A)\n",
    "print()\n",
    "print('The optimal value for the starter is',F[d-1][0])\n",
    "print('The optimal value for the second player is',S[d-1][0])\n",
    "print()\n",
    "printing_decisions(A)"
   ]
  },
  {
   "cell_type": "code",
   "execution_count": 7,
   "id": "644c0974",
   "metadata": {},
   "outputs": [
    {
     "name": "stdout",
     "output_type": "stream",
     "text": [
      "[5, 2, 15, 1, 9, 17, 3, 6, 7, 9]\n",
      "\n",
      "The optimal value for the starter is 42.0\n",
      "The optimal value for the second player is 32.0\n",
      "\n",
      "with 10 bags remaining, it is optimal  to pick the right most bag\n",
      "Picked value is 9\n",
      "Remaining set is [5, 2, 15, 1, 9, 17, 3, 6, 7]\n",
      "with 9 bags remaining, it is optimal  to pick the right most bag\n",
      "Picked value is 7\n",
      "Remaining set is [5, 2, 15, 1, 9, 17, 3, 6]\n",
      "with 8 bags remaining, it is optimal  to pick the right most bag\n",
      "Picked value is 6\n",
      "Remaining set is [5, 2, 15, 1, 9, 17, 3]\n",
      "with 7 bags remaining, it is optimal  to pick the left most bag\n",
      "Picked value is 5\n",
      "Remaining set is [2, 15, 1, 9, 17, 3]\n",
      "with 6 bags remaining, it is optimal  to pick the right most bag\n",
      "Picked value is 3\n",
      "Remaining set is [2, 15, 1, 9, 17]\n",
      "with 5 bags remaining, it is optimal  to pick the right most bag\n",
      "Picked value is 17\n",
      "Remaining set is [2, 15, 1, 9]\n",
      "with 4 bags remaining, it is optimal  to pick the right most bag\n",
      "Picked value is 9\n",
      "Remaining set is [2, 15, 1]\n",
      "with 3 bags remaining, it is optimal  to pick the left most bag\n",
      "Picked value is 2\n",
      "Remaining set is [15, 1]\n",
      "with 2 bags remaining, it is optimal  to pick the left most bag\n",
      "Picked value is 15\n",
      "Remaining set is [1]\n",
      "with 1 bags remaining, it is optimal  to pick the right most bag\n",
      "Picked value is 1\n",
      "Remaining set is []\n"
     ]
    }
   ],
   "source": [
    "A=[5,  2, 15 , 1 , 9 , 17,  3, 6, 7, 9]\n",
    "\n",
    "d=len(A)\n",
    "\n",
    "F , S, D = bags(A)\n",
    "\n",
    "print(A)\n",
    "print()\n",
    "print('The optimal value for the starter is',F[d-1][0])\n",
    "print('The optimal value for the second player is',S[d-1][0])\n",
    "print()\n",
    "printing_decisions(A)"
   ]
  },
  {
   "cell_type": "code",
   "execution_count": 8,
   "id": "9537f8d3-7229-46a8-92a8-3adb041ed7e5",
   "metadata": {},
   "outputs": [
    {
     "ename": "IndexError",
     "evalue": "index 9 is out of bounds for axis 0 with size 9",
     "output_type": "error",
     "traceback": [
      "\u001b[0;31m---------------------------------------------------------------------------\u001b[0m",
      "\u001b[0;31mIndexError\u001b[0m                                Traceback (most recent call last)",
      "Cell \u001b[0;32mIn[8], line 3\u001b[0m\n\u001b[1;32m      1\u001b[0m A\u001b[38;5;241m=\u001b[39m[\u001b[38;5;241m2\u001b[39m, \u001b[38;5;241m15\u001b[39m , \u001b[38;5;241m1\u001b[39m , \u001b[38;5;241m9\u001b[39m , \u001b[38;5;241m17\u001b[39m,  \u001b[38;5;241m3\u001b[39m, \u001b[38;5;241m6\u001b[39m, \u001b[38;5;241m7\u001b[39m, \u001b[38;5;241m9\u001b[39m]\n\u001b[1;32m      2\u001b[0m F , S, D \u001b[38;5;241m=\u001b[39m bags(A)\n\u001b[0;32m----> 3\u001b[0m \u001b[38;5;28mprint\u001b[39m(\u001b[38;5;124m'\u001b[39m\u001b[38;5;124mThe optimal value for the starter is\u001b[39m\u001b[38;5;124m'\u001b[39m,F[d\u001b[38;5;241m-\u001b[39m\u001b[38;5;241m1\u001b[39m][\u001b[38;5;241m0\u001b[39m])\n\u001b[1;32m      4\u001b[0m \u001b[38;5;28mprint\u001b[39m(\u001b[38;5;124m'\u001b[39m\u001b[38;5;124mThe optimal value for the second player is\u001b[39m\u001b[38;5;124m'\u001b[39m,S[d\u001b[38;5;241m-\u001b[39m\u001b[38;5;241m1\u001b[39m][\u001b[38;5;241m0\u001b[39m])\n\u001b[1;32m      6\u001b[0m B\u001b[38;5;241m=\u001b[39m[\u001b[38;5;241m5\u001b[39m, \u001b[38;5;241m2\u001b[39m, \u001b[38;5;241m15\u001b[39m, \u001b[38;5;241m1\u001b[39m, \u001b[38;5;241m9\u001b[39m, \u001b[38;5;241m17\u001b[39m, \u001b[38;5;241m3\u001b[39m, \u001b[38;5;241m6\u001b[39m, \u001b[38;5;241m7\u001b[39m]\n",
      "\u001b[0;31mIndexError\u001b[0m: index 9 is out of bounds for axis 0 with size 9"
     ]
    }
   ],
   "source": [
    "A=[2, 15 , 1 , 9 , 17,  3, 6, 7, 9]\n",
    "F , S, D = bags(A)\n",
    "print('The optimal value for the starter is',F[d-1][0])\n",
    "print('The optimal value for the second player is',S[d-1][0])\n",
    "\n",
    "B=[5, 2, 15, 1, 9, 17, 3, 6, 7]\n",
    "F , S, D = bags(B)\n",
    "print('The optimal value for the starter is',F[d-1][0])\n",
    "print('The optimal value for the second player is',S[d-1][0])\n"
   ]
  },
  {
   "cell_type": "code",
   "execution_count": null,
   "id": "2bacbdcd-1f23-47d1-82c2-d26e093497ac",
   "metadata": {},
   "outputs": [],
   "source": [
    "A=[7,5,2,15,8,1,25,3,2,5]\n",
    "\n",
    "d=len(A)\n",
    "\n",
    "F , S, D = bags(A)\n",
    "\n",
    "print(A)\n",
    "print()\n",
    "print('The optimal value for the starter is',F[d-1][0])\n",
    "print('The optimal value for the second player is',S[d-1][0])\n",
    "print()\n",
    "printing_decisions(A)"
   ]
  },
  {
   "cell_type": "code",
   "execution_count": null,
   "id": "7e34002d-e387-4d4a-8de3-83aa4b41892b",
   "metadata": {},
   "outputs": [],
   "source": [
    "A=[2, 15, 8, 1, 25, 3, 2,5]\n",
    "\n",
    "d=len(A)\n",
    "\n",
    "F , S, D = bags(A)\n",
    "\n",
    "print(A)\n",
    "print()\n",
    "print('The optimal value for the starter is',F[d-1][0])\n",
    "print('The optimal value for the second player is',S[d-1][0])\n",
    "print()\n",
    "printing_decisions(A)"
   ]
  },
  {
   "cell_type": "code",
   "execution_count": null,
   "id": "a1de064a-c41c-4f5a-8835-7a9e9582353f",
   "metadata": {},
   "outputs": [],
   "source": []
  }
 ],
 "metadata": {
  "kernelspec": {
   "display_name": "Python 3 (ipykernel)",
   "language": "python",
   "name": "python3"
  },
  "language_info": {
   "codemirror_mode": {
    "name": "ipython",
    "version": 3
   },
   "file_extension": ".py",
   "mimetype": "text/x-python",
   "name": "python",
   "nbconvert_exporter": "python",
   "pygments_lexer": "ipython3",
   "version": "3.11.5"
  }
 },
 "nbformat": 4,
 "nbformat_minor": 5
}
